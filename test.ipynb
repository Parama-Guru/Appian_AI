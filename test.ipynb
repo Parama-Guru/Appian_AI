{
 "cells": [
  {
   "cell_type": "code",
   "execution_count": 3,
   "metadata": {},
   "outputs": [],
   "source": [
    "import langgraph\n"
   ]
  },
  {
   "cell_type": "code",
   "execution_count": 4,
   "metadata": {},
   "outputs": [],
   "source": [
    "from langchain_community.tools.tavily_search import TavilySearchResults\n",
    "from langchain_core.tools import tool\n",
    "from pydantic import BaseModel, Field\n",
    "from langgraph.graph import MessagesState,StateGraph, END\n",
    "from langgraph.prebuilt import ToolNode\n",
    "from langchain_core.messages import HumanMessage"
   ]
  },
  {
   "cell_type": "code",
   "execution_count": 117,
   "metadata": {},
   "outputs": [
    {
     "data": {
      "text/plain": [
       "True"
      ]
     },
     "execution_count": 117,
     "metadata": {},
     "output_type": "execute_result"
    }
   ],
   "source": [
    "from dotenv import load_dotenv\n",
    "load_dotenv()"
   ]
  },
  {
   "cell_type": "code",
   "execution_count": 102,
   "metadata": {},
   "outputs": [],
   "source": [
    "import os \n",
    "os.environ['GROQ_API_KEY']=os.getenv('GROQ_API_KEY')"
   ]
  },
  {
   "cell_type": "code",
   "execution_count": 118,
   "metadata": {},
   "outputs": [],
   "source": [
    "os.environ['GOOGLE_API_KEY']=os.getenv('GOOGLE_API_KEY')\n"
   ]
  },
  {
   "cell_type": "code",
   "execution_count": 103,
   "metadata": {},
   "outputs": [],
   "source": [
    "os.environ['UNSTRUCTURED_API_KEY']=os.getenv('UNSTRUCTURED_API_KEY')"
   ]
  },
  {
   "cell_type": "code",
   "execution_count": 104,
   "metadata": {},
   "outputs": [],
   "source": [
    "os.environ['LANGCHAIN_API_KEY'] = os.getenv(\"LANGCHAIN_API_KEY\")\n",
    "os.environ[\"LANGCHAIN_TRACING_V2\"] = \"true\"\n",
    "os.environ[\"LANGCHAIN_ENDPOINT\"] =\"https://api.smith.langchain.com\"\n",
    "os.environ[\"LANGCHAIN_PROJECT\"]=os.getenv(\"LANGCHAIN_PROJECT\")"
   ]
  },
  {
   "cell_type": "code",
   "execution_count": 105,
   "metadata": {},
   "outputs": [],
   "source": [
    "class Categorization(BaseModel):\n",
    "    \"\"\"Respond to the user with this\"\"\"\n",
    "    summarize_content: str = Field(description=\"give me a meaningful consise summarization of the document\")\n",
    "    person_name: str = Field(description=\"Name of the person in the document\")\n",
    "    govertment_id: str = Field(description=\"Government ID of the person in the document\")\n",
    "    email_address: str = Field(description=\"Email address of the person in the document\")\n",
    "    type_of_document: str = Field(description=''' the document is of what type, cho0se from the folllowing\n",
    "                                  credit card,\n",
    "                                  savings account,\n",
    "                                  driver's license,\n",
    "                                  state/country identification,\n",
    "                                  passport,\n",
    "                                  income statements/paystubs,\n",
    "                                  tax returns,\n",
    "                                  Receipts''')"
   ]
  },
  {
   "cell_type": "code",
   "execution_count": 106,
   "metadata": {},
   "outputs": [],
   "source": [
    "# Inherit 'messages' key from MessagesState, which is a list of chat messages\n",
    "class AgentState(MessagesState):\n",
    "    # Final structured response from the agent\n",
    "    final_response: Categorization"
   ]
  },
  {
   "cell_type": "code",
   "execution_count": 107,
   "metadata": {},
   "outputs": [],
   "source": [
    "from langchain_groq import ChatGroq\n",
    "llm=ChatGroq(model_name=\"Gemma2-9b-It\")"
   ]
  },
  {
   "cell_type": "code",
   "execution_count": 108,
   "metadata": {},
   "outputs": [],
   "source": [
    "model_with_structured_output = llm.with_structured_output(Categorization)"
   ]
  },
  {
   "cell_type": "code",
   "execution_count": 72,
   "metadata": {},
   "outputs": [],
   "source": [
    "file_path=\"/Users/guru/appian_ai/WhatsApp Image 2024-12-21 at 22.33.39.pdf\""
   ]
  },
  {
   "cell_type": "code",
   "execution_count": 124,
   "metadata": {},
   "outputs": [],
   "source": [
    "file_path1=\"/Users/guru/appian_ai/test1.pdf\""
   ]
  },
  {
   "cell_type": "code",
   "execution_count": 125,
   "metadata": {},
   "outputs": [],
   "source": [
    "from langchain_community.document_loaders import PyPDFLoader\n",
    "\n",
    "loader = PyPDFLoader(file_path1)\n",
    "pages = []\n",
    "async for page in loader.alazy_load():\n",
    "    pages.append(page)"
   ]
  },
  {
   "cell_type": "code",
   "execution_count": 126,
   "metadata": {},
   "outputs": [
    {
     "data": {
      "text/plain": [
       "2"
      ]
     },
     "execution_count": 126,
     "metadata": {},
     "output_type": "execute_result"
    }
   ],
   "source": [
    "len(pages)"
   ]
  },
  {
   "cell_type": "code",
   "execution_count": 93,
   "metadata": {},
   "outputs": [
    {
     "name": "stderr",
     "output_type": "stream",
     "text": [
      "WARNING: 'split_pdf_cache_tmp_data' does not exist. Using default value '/var/folders/tg/xmtp8sr50kdbw1z73gf8qd780000gn/T'.\n",
      "INFO: HTTP Request: POST https://api.unstructuredapp.io/general/v0/general \"HTTP/1.1 200 OK\"\n"
     ]
    }
   ],
   "source": [
    "from langchain_unstructured import UnstructuredLoader\n",
    "\n",
    "loader = UnstructuredLoader(\n",
    "    file_path=file_path,\n",
    "    strategy=\"hi_res\",\n",
    "    partition_via_api=True,\n",
    "    coordinates=True,\n",
    ")\n",
    "docs = []\n",
    "for doc in loader.lazy_load():\n",
    "    docs.append(doc)"
   ]
  },
  {
   "cell_type": "code",
   "execution_count": 115,
   "metadata": {},
   "outputs": [
    {
     "name": "stdout",
     "output_type": "stream",
     "text": [
      "Indian U ving Licence nt Of Tai Nadu 2. . = 0240007935 th 4, il oty o iy H 01082024 18-10-2044. 3§ . Name: PARAMAGURU H Son/Daughter Wi of: Date of Bith: 19.10.2004 HARMURUGAN £ N 76A RAJA NANDAGOPAL L=\n"
     ]
    }
   ],
   "source": [
    "first_page_docs = [doc for doc in docs if doc.metadata.get(\"page_number\") == 1]\n",
    "\n",
    "for doc in first_page_docs:\n",
    "    print(doc.page_content)"
   ]
  },
  {
   "cell_type": "code",
   "execution_count": 100,
   "metadata": {},
   "outputs": [],
   "source": [
    "content1=docs[0].page_content\n"
   ]
  },
  {
   "cell_type": "code",
   "execution_count": 133,
   "metadata": {},
   "outputs": [],
   "source": [
    "content=''"
   ]
  },
  {
   "cell_type": "code",
   "execution_count": 134,
   "metadata": {},
   "outputs": [],
   "source": [
    "for page in pages:\n",
    "    content= page.page_content + content"
   ]
  },
  {
   "cell_type": "code",
   "execution_count": 135,
   "metadata": {},
   "outputs": [
    {
     "name": "stdout",
     "output_type": "stream",
     "text": [
      "Email address : paramaguruvh@gmail.com\n",
      "Type of document :\n",
      "     Drivers licence\n",
      "NAME:PARAMAGURU\n",
      "Govermen od: 12345687\n",
      "\n"
     ]
    }
   ],
   "source": [
    "print(content)"
   ]
  },
  {
   "cell_type": "code",
   "execution_count": 109,
   "metadata": {},
   "outputs": [
    {
     "name": "stdout",
     "output_type": "stream",
     "text": [
      "{'source': '/Users/guru/appian_ai/WhatsApp Image 2024-12-21 at 22.33.39.pdf', 'page': 0}\n",
      "\n",
      "\n"
     ]
    }
   ],
   "source": [
    "print(f\"{pages[0].metadata}\\n\")\n",
    "print(pages[0].page_content)"
   ]
  },
  {
   "cell_type": "code",
   "execution_count": 110,
   "metadata": {},
   "outputs": [],
   "source": [
    "cont=pages[0].page_content"
   ]
  },
  {
   "cell_type": "code",
   "execution_count": 111,
   "metadata": {},
   "outputs": [
    {
     "name": "stderr",
     "output_type": "stream",
     "text": [
      "INFO: HTTP Request: POST https://api.groq.com/openai/v1/chat/completions \"HTTP/1.1 200 OK\"\n"
     ]
    },
    {
     "data": {
      "text/plain": [
       "Categorization(summarize_content='Indian U ving Licence nt Of Tai Nadu 2. . = 0240007935 th 4, il oty o iy H 01082024 18-10-2044. 3§ . Name: PARAMAGURU H Son/Daughter Wi of: Date of Bith: 19.10.2004 HARMURUGAN £ N 76A RAJA NANDAGOPAL L=', person_name='PARAMAGURU H', govertment_id='0240007935', email_address='', type_of_document=\"driver's license\")"
      ]
     },
     "execution_count": 111,
     "metadata": {},
     "output_type": "execute_result"
    }
   ],
   "source": [
    "model_with_structured_output.invoke(content1)"
   ]
  },
  {
   "cell_type": "code",
   "execution_count": 119,
   "metadata": {},
   "outputs": [],
   "source": [
    "from langchain_google_genai import ChatGoogleGenerativeAI"
   ]
  },
  {
   "cell_type": "code",
   "execution_count": 137,
   "metadata": {},
   "outputs": [],
   "source": [
    "model = ChatGoogleGenerativeAI(model=\"gemini-1.5-flash\")"
   ]
  },
  {
   "cell_type": "code",
   "execution_count": 138,
   "metadata": {},
   "outputs": [],
   "source": [
    "model_struct = model.with_structured_output(Categorization)"
   ]
  },
  {
   "cell_type": "code",
   "execution_count": 139,
   "metadata": {},
   "outputs": [
    {
     "data": {
      "text/plain": [
       "'Email address : paramaguruvh@gmail.com\\nType of document :\\n     Drivers licence\\nNAME:PARAMAGURU\\nGovermen od: 12345687\\n'"
      ]
     },
     "execution_count": 139,
     "metadata": {},
     "output_type": "execute_result"
    }
   ],
   "source": [
    "content"
   ]
  },
  {
   "cell_type": "code",
   "execution_count": 140,
   "metadata": {},
   "outputs": [
    {
     "data": {
      "text/plain": [
       "'Indian U ving Licence nt Of Tai Nadu 2. . = 0240007935 th 4, il oty o iy H 01082024 18-10-2044. 3§ . Name: PARAMAGURU H Son/Daughter Wi of: Date of Bith: 19.10.2004 HARMURUGAN £ N 76A RAJA NANDAGOPAL L='"
      ]
     },
     "execution_count": 140,
     "metadata": {},
     "output_type": "execute_result"
    }
   ],
   "source": [
    "content1"
   ]
  },
  {
   "cell_type": "code",
   "execution_count": 149,
   "metadata": {},
   "outputs": [],
   "source": [
    "a=model_struct.invoke(content)"
   ]
  },
  {
   "cell_type": "code",
   "execution_count": 152,
   "metadata": {},
   "outputs": [
    {
     "name": "stdout",
     "output_type": "stream",
     "text": [
      "driver's license\n"
     ]
    }
   ],
   "source": [
    "print(a.type_of_document)"
   ]
  },
  {
   "cell_type": "code",
   "execution_count": null,
   "metadata": {},
   "outputs": [],
   "source": []
  },
  {
   "cell_type": "code",
   "execution_count": 157,
   "metadata": {},
   "outputs": [],
   "source": [
    "market_analyzer_prompt = (\n",
    "    \" You are a stock market news analyst. Given a list of companies,\\n\"\n",
    "    \" you search for the news articles and expert analysis related to\"\n",
    "    \" these companies. Respond with the news summaries and expert\"\n",
    "    \" analysis for each company.\"\n",
    "    \" Top Companies = {company_names}.\"\n",
    "    \" Use Top Companies as input parameters only if user does not provide any specific company in the query.\"\n",
    "    \" Use get_news_articles and get_expert_analysis tools to get the news articles and expert analysis.\"\n",
    "    \" After you finish, you should pass the conversation to the supervisor.\"\n",
    "    \" You should always reply with the context of responding to the user's query.\"\n",
    ")\n"
   ]
  },
  {
   "cell_type": "code",
   "execution_count": 158,
   "metadata": {},
   "outputs": [
    {
     "data": {
      "text/plain": [
       "str"
      ]
     },
     "execution_count": 158,
     "metadata": {},
     "output_type": "execute_result"
    }
   ],
   "source": [
    "type(market_analyzer_prompt)"
   ]
  },
  {
   "cell_type": "code",
   "execution_count": 159,
   "metadata": {},
   "outputs": [
    {
     "name": "stdout",
     "output_type": "stream",
     "text": [
      " You are a stock market news analyst. Given a list of companies,\n",
      " you search for the news articles and expert analysis related to these companies. Respond with the news summaries and expert analysis for each company. Top Companies = {company_names}. Use Top Companies as input parameters only if user does not provide any specific company in the query. Use get_news_articles and get_expert_analysis tools to get the news articles and expert analysis. After you finish, you should pass the conversation to the supervisor. You should always reply with the context of responding to the user's query.\n"
     ]
    }
   ],
   "source": [
    "print(market_analyzer_prompt)"
   ]
  },
  {
   "cell_type": "code",
   "execution_count": null,
   "metadata": {},
   "outputs": [],
   "source": [
    "'''    \n",
    "    uploaded_file = st.file_uploader(\"Upload the Document\",type=[\"txt\",\"pdf\"])\n",
    "    if uploaded_file is not None:\n",
    "        delete_previous_file(save_dir)\n",
    "        save_path = os.path.join(save_dir, uploaded_file.name)\n",
    "        with open(save_path, \"wb\") as f:\n",
    "            f.write(uploaded_file.getbuffer())\n",
    "        st.success(f\"File saved successfully: {uploaded_file.name}\")\n",
    "    submit=st.button(\"Submit\")\n",
    "    if submit:\n",
    "        st.text(\"Summarizing and Categorising the document...\")\n",
    "        #content=preprocessed_data(save_dir)\n",
    "        #mybot=Chatbot()\n",
    "        #workflow=mybot(save_dir)\n",
    "        #response = workflow.invoke({\"messages\":[content]})\n",
    "        #st.write(response['messages'][-1].content)\n",
    "        output=model()\n",
    "        st.write (output)\n",
    "        st.success(\"Document Summarized and Categorised Successfully\")\n",
    "        confirm = st.button(\"confirm\")\n",
    "        if confirm:\n",
    "            st.text(\"Ingesting the data to the database...\")\n",
    "            st.write(output)\n",
    "            st.success(\"Data Ingested to the database Successfully\")'''"
   ]
  }
 ],
 "metadata": {
  "kernelspec": {
   "display_name": "langgraph",
   "language": "python",
   "name": "python3"
  },
  "language_info": {
   "codemirror_mode": {
    "name": "ipython",
    "version": 3
   },
   "file_extension": ".py",
   "mimetype": "text/x-python",
   "name": "python",
   "nbconvert_exporter": "python",
   "pygments_lexer": "ipython3",
   "version": "3.10.15"
  }
 },
 "nbformat": 4,
 "nbformat_minor": 2
}
